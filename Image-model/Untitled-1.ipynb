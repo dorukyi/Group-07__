{
 "cells": [
  {
   "cell_type": "code",
   "execution_count": 2,
   "metadata": {},
   "outputs": [],
   "source": [
    "from tensorflow import keras\n",
    "from keras.models import Sequential\n",
    "from keras.layers import Dense, Flatten, Dropout, BatchNormalization\n",
    "from keras.layers import Conv2D, MaxPooling2D\n",
    "from keras import initializers\n",
    "from sklearn.preprocessing import LabelEncoder\n",
    "import numpy as np\n",
    "from PIL import Image\n",
    "import os\n",
    "import pandas as pd\n",
    "import joblib\n",
    "import pickle\n",
    "#from IPython.display import display\n",
    "#import cv2"
   ]
  },
  {
   "cell_type": "code",
   "execution_count": 3,
   "metadata": {},
   "outputs": [],
   "source": [
    "directory='C:/Users/sdoga/Desktop/Courses/Software-Engineering/Datasets/BIRDS450/images'\n",
    "\n",
    "x_train = []\n",
    "x_test = []\n",
    "y_train =[]\n",
    "y_test = []\n",
    "\n",
    "new_path = os.path.join(directory,'train')\n",
    "for img_name in os.listdir(new_path):\n",
    "    for img_no in os.listdir(os.path.join(new_path,img_name)):\n",
    "        temp = Image.open((os.path.join(new_path, img_name,img_no)))\n",
    "        img=temp.copy()\n",
    "        x_train.append(np.asarray(img))\n",
    "        y_train.append(img_name)\n",
    "        temp.close()\n",
    "\n",
    "new_path = os.path.join(directory,'test')\n",
    "for img_name in os.listdir(new_path):\n",
    "    for img_no in os.listdir(os.path.join(new_path,img_name)):\n",
    "        temp = Image.open((os.path.join(new_path, img_name,img_no)))\n",
    "        img=temp.copy()\n",
    "        x_test.append(np.asarray(img))\n",
    "        y_test.append(img_name)\n",
    "        temp.close()\n",
    "\n"
   ]
  },
  {
   "cell_type": "code",
   "execution_count": 4,
   "metadata": {},
   "outputs": [],
   "source": [
    "x_train = np.asarray(x_train)\n",
    "y_train = np.asarray(y_train)\n",
    "x_test = np.asarray(x_test)\n",
    "y_test = np.asarray(y_test)"
   ]
  },
  {
   "cell_type": "code",
   "execution_count": 7,
   "metadata": {},
   "outputs": [
    {
     "name": "stdout",
     "output_type": "stream",
     "text": [
      "[  0   0   0 ... 399 399 399]\n"
     ]
    }
   ],
   "source": [
    "print(y_train)"
   ]
  },
  {
   "cell_type": "code",
   "execution_count": 9,
   "metadata": {},
   "outputs": [],
   "source": [
    "encoder = LabelEncoder()\n",
    "y_train = encoder.fit_transform(y_train)\n",
    "y_test = encoder.fit_transform(y_test)"
   ]
  },
  {
   "cell_type": "code",
   "execution_count": 10,
   "metadata": {},
   "outputs": [],
   "source": [
    "y_test = y_test.reshape(-1,1)\n",
    "y_train = y_train.reshape(-1,1)"
   ]
  },
  {
   "cell_type": "code",
   "execution_count": 11,
   "metadata": {},
   "outputs": [
    {
     "name": "stdout",
     "output_type": "stream",
     "text": [
      "(58388, 224, 224, 3)\n",
      "(58388, 1)\n",
      "(2000, 224, 224, 3)\n",
      "(2000, 1)\n"
     ]
    }
   ],
   "source": [
    "print(x_train.shape)\n",
    "\n",
    "print(y_train.shape)\n",
    "\n",
    "print(x_test.shape)\n",
    "\n",
    "print(y_test.shape)"
   ]
  },
  {
   "cell_type": "code",
   "execution_count": 22,
   "metadata": {},
   "outputs": [
    {
     "name": "stdout",
     "output_type": "stream",
     "text": [
      "Keras model archive loading:\n",
      "File Name                                             Modified             Size\n",
      "config.json                                    2022-11-20 08:33:34         4054\n",
      "metadata.json                                  2022-11-20 08:33:34           64\n",
      "variables.h5                                   2022-11-20 08:33:36    968352048\n",
      "Keras weights file (<HDF5 file \"variables.h5\" (mode r)>) loading:\n",
      "...layers\\conv2d\n",
      "......vars\n",
      ".........0\n",
      ".........1\n",
      "...layers\\conv2d_1\n",
      "......vars\n",
      ".........0\n",
      ".........1\n",
      "...layers\\conv2d_2\n",
      "......vars\n",
      ".........0\n",
      ".........1\n",
      "...layers\\dense\n",
      "......vars\n",
      ".........0\n",
      ".........1\n",
      "...layers\\dense_1\n",
      "......vars\n",
      ".........0\n",
      ".........1\n",
      "...layers\\flatten\n",
      "......vars\n",
      "...layers\\max_pooling2d\n",
      "......vars\n",
      "...layers\\max_pooling2d_1\n",
      "......vars\n",
      "...metrics\\mean\n",
      "......vars\n",
      ".........0\n",
      ".........1\n",
      "...metrics\\mean_metric_wrapper\n",
      "......vars\n",
      ".........0\n",
      ".........1\n",
      "...optimizer\n",
      "......vars\n",
      ".........0\n",
      ".........1\n",
      ".........10\n",
      ".........11\n",
      ".........12\n",
      ".........13\n",
      ".........14\n",
      ".........15\n",
      ".........16\n",
      ".........17\n",
      ".........18\n",
      ".........19\n",
      ".........2\n",
      ".........20\n",
      ".........3\n",
      ".........4\n",
      ".........5\n",
      ".........6\n",
      ".........7\n",
      ".........8\n",
      ".........9\n",
      "...vars\n",
      "1/1 [==============================] - 0s 200ms/step\n",
      "1/1 [==============================] - 0s 88ms/step\n"
     ]
    },
    {
     "ename": "NameError",
     "evalue": "name 'k' is not defined",
     "output_type": "error",
     "traceback": [
      "\u001b[1;31m---------------------------------------------------------------------------\u001b[0m",
      "\u001b[1;31mNameError\u001b[0m                                 Traceback (most recent call last)",
      "Cell \u001b[1;32mIn [22], line 8\u001b[0m\n\u001b[0;32m      5\u001b[0m model333\u001b[39m.\u001b[39mpredict(np\u001b[39m.\u001b[39masarray(img333)\u001b[39m.\u001b[39mreshape(\u001b[39m1\u001b[39m, \u001b[39m224\u001b[39m, \u001b[39m224\u001b[39m, \u001b[39m3\u001b[39m))\u001b[39m.\u001b[39mflatten()\n\u001b[0;32m      7\u001b[0m probabilites \u001b[39m=\u001b[39m \u001b[39msorted\u001b[39m(model333\u001b[39m.\u001b[39mpredict(np\u001b[39m.\u001b[39masarray(img333)\u001b[39m.\u001b[39mreshape(\u001b[39m1\u001b[39m, \u001b[39m224\u001b[39m, \u001b[39m224\u001b[39m, \u001b[39m3\u001b[39m)))[\u001b[39m-\u001b[39m\u001b[39m5\u001b[39m:]\n\u001b[1;32m----> 8\u001b[0m indices \u001b[39m=\u001b[39m \u001b[39msorted\u001b[39m(\u001b[39mrange\u001b[39m(\u001b[39mlen\u001b[39m(probabilites)), key\u001b[39m=\u001b[39m\u001b[39mlambda\u001b[39;00m i: probabilites[i])[\u001b[39m-\u001b[39mk:]\n\u001b[0;32m      9\u001b[0m formatted_predictions \u001b[39m=\u001b[39m []\n",
      "\u001b[1;31mNameError\u001b[0m: name 'k' is not defined"
     ]
    }
   ],
   "source": [
    "model333=joblib.load(\"models/trained_model.joblib\")\n",
    "\n",
    "img333 = Image.open(\"C:/Users/sdoga/Desktop/Courses/Software-Engineering/Datasets/BIRDS450/images/train/AFRICAN OYSTER CATCHER/004.jpg\")\n",
    "\n"
   ]
  },
  {
   "cell_type": "code",
   "execution_count": 34,
   "metadata": {},
   "outputs": [
    {
     "name": "stdout",
     "output_type": "stream",
     "text": [
      "1/1 [==============================] - 0s 157ms/step\n",
      "[[0.00000000e+00 0.00000000e+00 0.00000000e+00 0.00000000e+00\n",
      "  0.00000000e+00 0.00000000e+00 0.00000000e+00 0.00000000e+00\n",
      "  0.00000000e+00 0.00000000e+00 0.00000000e+00 0.00000000e+00\n",
      "  0.00000000e+00 0.00000000e+00 0.00000000e+00 0.00000000e+00\n",
      "  0.00000000e+00 0.00000000e+00 0.00000000e+00 0.00000000e+00\n",
      "  0.00000000e+00 0.00000000e+00 0.00000000e+00 0.00000000e+00\n",
      "  0.00000000e+00 0.00000000e+00 0.00000000e+00 0.00000000e+00\n",
      "  0.00000000e+00 0.00000000e+00 0.00000000e+00 0.00000000e+00\n",
      "  0.00000000e+00 0.00000000e+00 0.00000000e+00 0.00000000e+00\n",
      "  0.00000000e+00 0.00000000e+00 0.00000000e+00 0.00000000e+00\n",
      "  0.00000000e+00 0.00000000e+00 0.00000000e+00 0.00000000e+00\n",
      "  0.00000000e+00 0.00000000e+00 0.00000000e+00 0.00000000e+00\n",
      "  0.00000000e+00 0.00000000e+00 0.00000000e+00 0.00000000e+00\n",
      "  0.00000000e+00 0.00000000e+00 0.00000000e+00 0.00000000e+00\n",
      "  0.00000000e+00 0.00000000e+00 0.00000000e+00 0.00000000e+00\n",
      "  0.00000000e+00 0.00000000e+00 0.00000000e+00 0.00000000e+00\n",
      "  0.00000000e+00 2.02333457e-38 4.54018096e-38 6.08765980e-38\n",
      "  6.25861148e-38 7.97653782e-38 9.08513026e-38 9.77581794e-38\n",
      "  1.15995978e-37 1.50580237e-37 2.38277194e-37 2.98684189e-37\n",
      "  3.87494495e-37 6.12416127e-37 6.19261773e-37 6.29143281e-37\n",
      "  1.25518774e-36 1.57855586e-36 2.41602527e-36 3.26742983e-36\n",
      "  3.67650172e-36 5.66580600e-36 7.27265240e-36 8.07235733e-36\n",
      "  8.84069040e-36 1.00291321e-35 1.14495223e-35 1.21801447e-35\n",
      "  2.18487235e-35 2.46803362e-35 3.18139683e-35 3.27358216e-35\n",
      "  3.46969456e-35 6.46002563e-35 1.44427297e-34 1.54173132e-34\n",
      "  1.62501717e-34 2.12019806e-34 2.63599351e-34 2.89399018e-34\n",
      "  3.63192673e-34 3.83965128e-34 4.94924218e-34 5.71704938e-34\n",
      "  6.99234182e-34 7.97320737e-34 1.04386883e-33 1.09049858e-33\n",
      "  1.39385409e-33 1.53668841e-33 2.12699568e-33 4.08013942e-33\n",
      "  5.53555865e-33 6.82763265e-33 9.08560375e-33 1.56271762e-32\n",
      "  3.60977535e-32 4.24457022e-32 4.36579630e-32 4.47622136e-32\n",
      "  7.93038506e-32 1.00660238e-31 1.76183716e-31 2.12505163e-31\n",
      "  4.14594601e-31 4.59881743e-31 5.54296039e-31 5.57021916e-31\n",
      "  7.09041924e-31 9.07086014e-31 1.03227983e-30 1.14272552e-30\n",
      "  1.16096881e-30 1.17374907e-30 1.19771232e-30 1.22289207e-30\n",
      "  1.35336000e-30 1.69564270e-30 1.96383108e-30 2.14694658e-30\n",
      "  2.34434481e-30 2.49880006e-30 4.96521253e-30 5.37387907e-30\n",
      "  6.32859602e-30 7.37858519e-30 7.64242706e-30 8.14016409e-30\n",
      "  8.73598663e-30 9.45479409e-30 9.80139829e-30 1.11505897e-29\n",
      "  1.23054375e-29 2.16860404e-29 2.31665358e-29 3.53946201e-29\n",
      "  3.85735180e-29 4.74227147e-29 5.06814965e-29 5.94061216e-29\n",
      "  8.99698474e-29 9.51816426e-29 1.01173554e-28 1.15300779e-28\n",
      "  1.37770809e-28 1.53224952e-28 2.08715845e-28 2.09076042e-28\n",
      "  3.42770102e-28 3.51019173e-28 4.17818320e-28 4.34762363e-28\n",
      "  5.00679482e-28 6.24133469e-28 7.69095423e-28 7.78137520e-28\n",
      "  1.11193373e-27 1.13354035e-27 1.13596442e-27 1.29400556e-27\n",
      "  1.56433198e-27 1.69242076e-27 1.70376969e-27 2.18739130e-27\n",
      "  3.48083180e-27 3.73452954e-27 4.73284265e-27 6.09822259e-27\n",
      "  7.77129373e-27 7.88329194e-27 8.13387546e-27 9.29938817e-27\n",
      "  1.06350321e-26 1.13914149e-26 1.57546570e-26 1.83928713e-26\n",
      "  2.09361204e-26 3.15575054e-26 3.43084452e-26 3.46836101e-26\n",
      "  3.52167599e-26 3.73815175e-26 3.95579755e-26 4.01600859e-26\n",
      "  4.20716746e-26 4.90683316e-26 8.22448692e-26 1.36750517e-25\n",
      "  1.44267178e-25 1.61468672e-25 2.46491299e-25 2.79350684e-25\n",
      "  2.80408719e-25 3.84497511e-25 3.98525923e-25 4.10194235e-25\n",
      "  4.40695764e-25 4.70781834e-25 4.99329872e-25 7.68164153e-25\n",
      "  1.10081881e-24 1.12290317e-24 1.46143888e-24 1.57984247e-24\n",
      "  1.66881809e-24 2.00865266e-24 2.28131730e-24 2.92144657e-24\n",
      "  3.39025635e-24 3.44181985e-24 3.46409334e-24 3.85331691e-24\n",
      "  5.23271515e-24 5.58619859e-24 5.78826689e-24 5.80866092e-24\n",
      "  5.88502857e-24 5.91622605e-24 6.00616132e-24 8.18440349e-24\n",
      "  8.82517706e-24 9.84264355e-24 1.10038279e-23 1.11902531e-23\n",
      "  1.14609988e-23 1.17068575e-23 1.32033078e-23 2.43670046e-23\n",
      "  2.76900149e-23 2.98194502e-23 3.34336764e-23 5.44504866e-23\n",
      "  5.45169970e-23 6.12270984e-23 9.49342666e-23 1.04424118e-22\n",
      "  1.12021316e-22 1.28796626e-22 1.47351505e-22 1.49869638e-22\n",
      "  1.87045888e-22 1.95296186e-22 1.97424988e-22 2.08368861e-22\n",
      "  2.11345214e-22 2.36774897e-22 3.21522565e-22 4.48034422e-22\n",
      "  4.89086542e-22 5.74281197e-22 5.88903169e-22 9.55789426e-22\n",
      "  1.04490713e-21 1.12036333e-21 1.12171043e-21 1.16081470e-21\n",
      "  1.35810344e-21 1.63736707e-21 2.08133808e-21 2.21197547e-21\n",
      "  2.27707777e-21 2.43099294e-21 2.49965035e-21 2.64658032e-21\n",
      "  2.72294650e-21 2.80647943e-21 3.25575926e-21 3.39980643e-21\n",
      "  3.80487289e-21 4.53982206e-21 4.58243277e-21 4.82309386e-21\n",
      "  4.89465669e-21 7.00980154e-21 8.52493793e-21 8.53782547e-21\n",
      "  1.07860717e-20 1.15466319e-20 1.27683842e-20 1.34593239e-20\n",
      "  1.39892381e-20 1.40374553e-20 1.41073489e-20 1.46209424e-20\n",
      "  2.09345858e-20 2.52365228e-20 3.14885752e-20 4.21590435e-20\n",
      "  5.40231238e-20 8.98022428e-20 9.97884001e-20 1.05615293e-19\n",
      "  1.24794632e-19 1.27861805e-19 1.31309054e-19 1.34672927e-19\n",
      "  1.62938076e-19 2.51570466e-19 3.34772634e-19 4.67813288e-19\n",
      "  6.04244064e-19 6.98386472e-19 1.26921053e-18 1.61312255e-18\n",
      "  1.94398694e-18 2.03614644e-18 2.44600078e-18 2.60740212e-18\n",
      "  6.61676041e-18 6.83292173e-18 1.01147116e-17 1.52667448e-17\n",
      "  1.59669747e-17 1.60360112e-17 1.78220315e-17 3.56972143e-17\n",
      "  3.62404205e-17 4.99964704e-17 5.19326025e-17 5.48021946e-17\n",
      "  7.55946465e-17 7.63213545e-17 8.36619207e-17 9.35319258e-17\n",
      "  1.22582913e-16 1.41140002e-16 1.54302219e-16 1.80410646e-16\n",
      "  1.89094706e-16 2.45266516e-16 2.51473944e-16 2.65007228e-16\n",
      "  4.79957667e-16 6.16284867e-16 7.08279633e-16 7.97267221e-16\n",
      "  8.90495478e-16 1.14508627e-15 1.70882449e-15 1.76197253e-15\n",
      "  1.83241306e-15 2.10095215e-15 2.70954659e-15 4.24271222e-15\n",
      "  5.15696105e-15 5.66364091e-15 6.54240286e-15 2.13123976e-14\n",
      "  1.65755945e-13 1.96045735e-13 4.55189217e-13 7.33225384e-13\n",
      "  7.33926375e-13 8.52162308e-13 1.23556851e-12 1.36393501e-12\n",
      "  1.75233623e-12 2.74297555e-12 6.38693395e-12 6.95247072e-12\n",
      "  7.15435046e-12 7.18687393e-12 8.49395988e-12 2.45644512e-11\n",
      "  5.44565296e-11 1.18230828e-10 2.14578952e-10 2.50799326e-10\n",
      "  5.07823394e-10 7.48699880e-10 1.77851578e-09 1.60329523e-06\n",
      "  1.07270052e-05 4.83097043e-03 2.46127751e-02 9.70543921e-01]]\n"
     ]
    }
   ],
   "source": [
    "pred333 = model333.predict(np.asarray(img333).reshape(1, 224, 224, 3))\n",
    "pred333.sort()\n",
    "print(pred333)"
   ]
  },
  {
   "cell_type": "code",
   "execution_count": 48,
   "metadata": {},
   "outputs": [
    {
     "name": "stdout",
     "output_type": "stream",
     "text": [
      "1/1 [==============================] - 0s 173ms/step\n",
      "[0.9705439, 0.024612775, 0.0048309704, 1.0727005e-05, 1.6032952e-06]\n",
      "[6, 77, 303, 276, 305]\n"
     ]
    }
   ],
   "source": [
    "probabilites = model333.predict(np.asarray(img333).reshape(1, 224, 224, 3))\n",
    "indices = sorted(range(len(probabilites[0])), key=lambda i: probabilites[0][i],reverse=True)[:5]\n",
    "probabilites = sorted(probabilites[0],reverse=True)[:5]\n",
    "formatted_predictions = []\n",
    "\n",
    "print(probabilites)\n",
    "print(indices)"
   ]
  },
  {
   "cell_type": "code",
   "execution_count": 17,
   "metadata": {},
   "outputs": [
    {
     "data": {
      "text/plain": [
       "(224, 224, 3)"
      ]
     },
     "execution_count": 17,
     "metadata": {},
     "output_type": "execute_result"
    }
   ],
   "source": [
    "np.asarray(img333).shape"
   ]
  },
  {
   "cell_type": "code",
   "execution_count": 16,
   "metadata": {},
   "outputs": [
    {
     "ename": "ValueError",
     "evalue": "in user code:\n\n    File \"c:\\Users\\sdoga\\AppData\\Local\\Programs\\Python\\Python310\\lib\\site-packages\\keras\\engine\\training.py\", line 2137, in predict_function  *\n        return step_function(self, iterator)\n    File \"c:\\Users\\sdoga\\AppData\\Local\\Programs\\Python\\Python310\\lib\\site-packages\\keras\\engine\\training.py\", line 2123, in step_function  **\n        outputs = model.distribute_strategy.run(run_step, args=(data,))\n    File \"c:\\Users\\sdoga\\AppData\\Local\\Programs\\Python\\Python310\\lib\\site-packages\\keras\\engine\\training.py\", line 2111, in run_step  **\n        outputs = model.predict_step(data)\n    File \"c:\\Users\\sdoga\\AppData\\Local\\Programs\\Python\\Python310\\lib\\site-packages\\keras\\engine\\training.py\", line 2079, in predict_step\n        return self(x, training=False)\n    File \"c:\\Users\\sdoga\\AppData\\Local\\Programs\\Python\\Python310\\lib\\site-packages\\keras\\utils\\traceback_utils.py\", line 70, in error_handler\n        raise e.with_traceback(filtered_tb) from None\n    File \"c:\\Users\\sdoga\\AppData\\Local\\Programs\\Python\\Python310\\lib\\site-packages\\keras\\engine\\input_spec.py\", line 295, in assert_input_compatibility\n        raise ValueError(\n\n    ValueError: Input 0 of layer \"sequential_3\" is incompatible with the layer: expected shape=(None, 224, 224, 3), found shape=(32, 224, 3)\n",
     "output_type": "error",
     "traceback": [
      "\u001b[1;31m---------------------------------------------------------------------------\u001b[0m",
      "\u001b[1;31mValueError\u001b[0m                                Traceback (most recent call last)",
      "Cell \u001b[1;32mIn [16], line 1\u001b[0m\n\u001b[1;32m----> 1\u001b[0m model333\u001b[39m.\u001b[39;49mpredict(np\u001b[39m.\u001b[39;49masarray(img333))\n",
      "File \u001b[1;32mc:\\Users\\sdoga\\AppData\\Local\\Programs\\Python\\Python310\\lib\\site-packages\\keras\\utils\\traceback_utils.py:70\u001b[0m, in \u001b[0;36mfilter_traceback.<locals>.error_handler\u001b[1;34m(*args, **kwargs)\u001b[0m\n\u001b[0;32m     67\u001b[0m     filtered_tb \u001b[39m=\u001b[39m _process_traceback_frames(e\u001b[39m.\u001b[39m__traceback__)\n\u001b[0;32m     68\u001b[0m     \u001b[39m# To get the full stack trace, call:\u001b[39;00m\n\u001b[0;32m     69\u001b[0m     \u001b[39m# `tf.debugging.disable_traceback_filtering()`\u001b[39;00m\n\u001b[1;32m---> 70\u001b[0m     \u001b[39mraise\u001b[39;00m e\u001b[39m.\u001b[39mwith_traceback(filtered_tb) \u001b[39mfrom\u001b[39;00m \u001b[39mNone\u001b[39m\n\u001b[0;32m     71\u001b[0m \u001b[39mfinally\u001b[39;00m:\n\u001b[0;32m     72\u001b[0m     \u001b[39mdel\u001b[39;00m filtered_tb\n",
      "File \u001b[1;32m~\\AppData\\Local\\Temp\\__autograph_generated_fileksqws10q.py:15\u001b[0m, in \u001b[0;36mouter_factory.<locals>.inner_factory.<locals>.tf__predict_function\u001b[1;34m(iterator)\u001b[0m\n\u001b[0;32m     13\u001b[0m \u001b[39mtry\u001b[39;00m:\n\u001b[0;32m     14\u001b[0m     do_return \u001b[39m=\u001b[39m \u001b[39mTrue\u001b[39;00m\n\u001b[1;32m---> 15\u001b[0m     retval_ \u001b[39m=\u001b[39m ag__\u001b[39m.\u001b[39mconverted_call(ag__\u001b[39m.\u001b[39mld(step_function), (ag__\u001b[39m.\u001b[39mld(\u001b[39mself\u001b[39m), ag__\u001b[39m.\u001b[39mld(iterator)), \u001b[39mNone\u001b[39;00m, fscope)\n\u001b[0;32m     16\u001b[0m \u001b[39mexcept\u001b[39;00m:\n\u001b[0;32m     17\u001b[0m     do_return \u001b[39m=\u001b[39m \u001b[39mFalse\u001b[39;00m\n",
      "\u001b[1;31mValueError\u001b[0m: in user code:\n\n    File \"c:\\Users\\sdoga\\AppData\\Local\\Programs\\Python\\Python310\\lib\\site-packages\\keras\\engine\\training.py\", line 2137, in predict_function  *\n        return step_function(self, iterator)\n    File \"c:\\Users\\sdoga\\AppData\\Local\\Programs\\Python\\Python310\\lib\\site-packages\\keras\\engine\\training.py\", line 2123, in step_function  **\n        outputs = model.distribute_strategy.run(run_step, args=(data,))\n    File \"c:\\Users\\sdoga\\AppData\\Local\\Programs\\Python\\Python310\\lib\\site-packages\\keras\\engine\\training.py\", line 2111, in run_step  **\n        outputs = model.predict_step(data)\n    File \"c:\\Users\\sdoga\\AppData\\Local\\Programs\\Python\\Python310\\lib\\site-packages\\keras\\engine\\training.py\", line 2079, in predict_step\n        return self(x, training=False)\n    File \"c:\\Users\\sdoga\\AppData\\Local\\Programs\\Python\\Python310\\lib\\site-packages\\keras\\utils\\traceback_utils.py\", line 70, in error_handler\n        raise e.with_traceback(filtered_tb) from None\n    File \"c:\\Users\\sdoga\\AppData\\Local\\Programs\\Python\\Python310\\lib\\site-packages\\keras\\engine\\input_spec.py\", line 295, in assert_input_compatibility\n        raise ValueError(\n\n    ValueError: Input 0 of layer \"sequential_3\" is incompatible with the layer: expected shape=(None, 224, 224, 3), found shape=(32, 224, 3)\n"
     ]
    }
   ],
   "source": [
    "model333.predict(np.asarray(img333))\n"
   ]
  },
  {
   "cell_type": "code",
   "execution_count": 14,
   "metadata": {},
   "outputs": [],
   "source": [
    "y_train = keras.utils.to_categorical(y_train, 400)\n",
    "y_test = keras.utils.to_categorical(y_test, 400)"
   ]
  },
  {
   "cell_type": "code",
   "execution_count": 22,
   "metadata": {},
   "outputs": [],
   "source": [
    "def define_Model():\n",
    "\n",
    "    initializer = keras.initializers.GlorotNormal(seed=0)\n",
    "\n",
    "    model = Sequential()\n",
    "\n",
    "    model.add(Conv2D(64, kernel_size=3, activation='relu', input_shape=(32, 32, 3), padding='same', kernel_initializer=initializer))\n",
    "    # model.add(Dropout(0.3))\n",
    "    # model.add(BatchNormalization())\n",
    "    model.add(MaxPooling2D(pool_size=(2, 2)))\n",
    "\n",
    "    model.add(Conv2D(128, kernel_size=3, activation='relu', padding='same', kernel_initializer=initializer))\n",
    "    # model.add(Dropout(0.3))\n",
    "    # model.add(BatchNormalization())\n",
    "    model.add(MaxPooling2D(pool_size=(2, 2)))\n",
    "\n",
    "    model.add(Conv2D(256, kernel_size=3, activation='relu', padding='same', kernel_initializer=initializer))\n",
    "    # model.add(Dropout(0.3))\n",
    "    # model.add(BatchNormalization())\n",
    "\n",
    "    model.add(Flatten())\n",
    "\n",
    "    model.add(Dense(100, activation='relu', kernel_initializer=initializer))\n",
    "    model.add(Dense(400, activation='softmax', kernel_initializer=initializer))\n",
    "\n",
    "    model.compile(loss=\"categorical_crossentropy\", optimizer=keras.optimizers.Adam(learning_rate=0.001), metrics=['accuracy'])\n",
    "    return model"
   ]
  },
  {
   "cell_type": "code",
   "execution_count": 23,
   "metadata": {},
   "outputs": [
    {
     "name": "stdout",
     "output_type": "stream",
     "text": [
      "Epoch 1/10\n",
      "584/584 [==============================] - 4028s 7s/step - loss: 13.4190 - accuracy: 0.0089 - val_loss: 5.7641 - val_accuracy: 0.0200\n",
      "Epoch 2/10\n",
      "584/584 [==============================] - 4028s 7s/step - loss: 5.4781 - accuracy: 0.0434 - val_loss: 5.5171 - val_accuracy: 0.0230\n",
      "Epoch 3/10\n",
      "584/584 [==============================] - 3971s 7s/step - loss: 4.6843 - accuracy: 0.1304 - val_loss: 5.8650 - val_accuracy: 0.0345\n",
      "Epoch 4/10\n",
      "584/584 [==============================] - 3837s 7s/step - loss: 3.6917 - accuracy: 0.2845 - val_loss: 6.9672 - val_accuracy: 0.0375\n",
      "Epoch 5/10\n",
      "584/584 [==============================] - 3788s 6s/step - loss: 2.7931 - accuracy: 0.4405 - val_loss: 9.0432 - val_accuracy: 0.0315\n",
      "Epoch 6/10\n",
      "584/584 [==============================] - 3802s 7s/step - loss: 2.1923 - accuracy: 0.5514 - val_loss: 10.2909 - val_accuracy: 0.0345\n",
      "Epoch 7/10\n",
      "584/584 [==============================] - 3797s 7s/step - loss: 1.7867 - accuracy: 0.6285 - val_loss: 13.0508 - val_accuracy: 0.0320\n",
      "Epoch 8/10\n",
      "584/584 [==============================] - 3805s 7s/step - loss: 1.4652 - accuracy: 0.6903 - val_loss: 15.3259 - val_accuracy: 0.0380\n",
      "Epoch 9/10\n",
      "584/584 [==============================] - 3813s 7s/step - loss: 1.2216 - accuracy: 0.7410 - val_loss: 18.2406 - val_accuracy: 0.0345\n",
      "Epoch 10/10\n",
      "584/584 [==============================] - 3823s 7s/step - loss: 1.0630 - accuracy: 0.7756 - val_loss: 19.4418 - val_accuracy: 0.0370\n",
      "[[[ 37   7   5]\n",
      "  [ 28   0   0]\n",
      "  [ 29   4   0]\n",
      "  ...\n",
      "  [ 60  72  58]\n",
      "  [ 75  89  76]\n",
      "  [ 87 101  88]]\n",
      "\n",
      " [[ 34   4   2]\n",
      "  [ 30   2   0]\n",
      "  [ 29   4   0]\n",
      "  ...\n",
      "  [ 46  58  46]\n",
      "  [ 60  74  61]\n",
      "  [ 77  91  78]]\n",
      "\n",
      " [[ 42  11   8]\n",
      "  [ 39  10   6]\n",
      "  [ 34   9   4]\n",
      "  ...\n",
      "  [ 38  51  41]\n",
      "  [ 55  68  58]\n",
      "  [ 73  86  76]]\n",
      "\n",
      " ...\n",
      "\n",
      " [[  0   1   0]\n",
      "  [  0   1   0]\n",
      "  [  0   0   0]\n",
      "  ...\n",
      "  [ 36  64   5]\n",
      "  [ 35  63   4]\n",
      "  [ 35  63   4]]\n",
      "\n",
      " [[  0   1   0]\n",
      "  [  0   1   0]\n",
      "  [  0   0   0]\n",
      "  ...\n",
      "  [ 36  61   3]\n",
      "  [ 34  59   1]\n",
      "  [ 33  58   0]]\n",
      "\n",
      " [[  0   1   0]\n",
      "  [  0   1   0]\n",
      "  [  0   0   0]\n",
      "  ...\n",
      "  [ 33  57   0]\n",
      "  [ 34  59   1]\n",
      "  [ 36  61   3]]]\n",
      "[1. 0. 0. 0. 0. 0. 0. 0. 0. 0. 0. 0. 0. 0. 0. 0. 0. 0. 0. 0. 0. 0. 0. 0.\n",
      " 0. 0. 0. 0. 0. 0. 0. 0. 0. 0. 0. 0. 0. 0. 0. 0. 0. 0. 0. 0. 0. 0. 0. 0.\n",
      " 0. 0. 0. 0. 0. 0. 0. 0. 0. 0. 0. 0. 0. 0. 0. 0. 0. 0. 0. 0. 0. 0. 0. 0.\n",
      " 0. 0. 0. 0. 0. 0. 0. 0. 0. 0. 0. 0. 0. 0. 0. 0. 0. 0. 0. 0. 0. 0. 0. 0.\n",
      " 0. 0. 0. 0. 0. 0. 0. 0. 0. 0. 0. 0. 0. 0. 0. 0. 0. 0. 0. 0. 0. 0. 0. 0.\n",
      " 0. 0. 0. 0. 0. 0. 0. 0. 0. 0. 0. 0. 0. 0. 0. 0. 0. 0. 0. 0. 0. 0. 0. 0.\n",
      " 0. 0. 0. 0. 0. 0. 0. 0. 0. 0. 0. 0. 0. 0. 0. 0. 0. 0. 0. 0. 0. 0. 0. 0.\n",
      " 0. 0. 0. 0. 0. 0. 0. 0. 0. 0. 0. 0. 0. 0. 0. 0. 0. 0. 0. 0. 0. 0. 0. 0.\n",
      " 0. 0. 0. 0. 0. 0. 0. 0. 0. 0. 0. 0. 0. 0. 0. 0. 0. 0. 0. 0. 0. 0. 0. 0.\n",
      " 0. 0. 0. 0. 0. 0. 0. 0. 0. 0. 0. 0. 0. 0. 0. 0. 0. 0. 0. 0. 0. 0. 0. 0.\n",
      " 0. 0. 0. 0. 0. 0. 0. 0. 0. 0. 0. 0. 0. 0. 0. 0. 0. 0. 0. 0. 0. 0. 0. 0.\n",
      " 0. 0. 0. 0. 0. 0. 0. 0. 0. 0. 0. 0. 0. 0. 0. 0. 0. 0. 0. 0. 0. 0. 0. 0.\n",
      " 0. 0. 0. 0. 0. 0. 0. 0. 0. 0. 0. 0. 0. 0. 0. 0. 0. 0. 0. 0. 0. 0. 0. 0.\n",
      " 0. 0. 0. 0. 0. 0. 0. 0. 0. 0. 0. 0. 0. 0. 0. 0. 0. 0. 0. 0. 0. 0. 0. 0.\n",
      " 0. 0. 0. 0. 0. 0. 0. 0. 0. 0. 0. 0. 0. 0. 0. 0. 0. 0. 0. 0. 0. 0. 0. 0.\n",
      " 0. 0. 0. 0. 0. 0. 0. 0. 0. 0. 0. 0. 0. 0. 0. 0. 0. 0. 0. 0. 0. 0. 0. 0.\n",
      " 0. 0. 0. 0. 0. 0. 0. 0. 0. 0. 0. 0. 0. 0. 0. 0.]\n"
     ]
    }
   ],
   "source": [
    "model = define_Model()\n",
    "\n",
    "epochs = 10     # Number of epochs hyperperameter (how many times the whole dataset will be seen by the network). This parameter can be tweaked.\n",
    "batch_size = 100 #Number of samples in each batch hyperperameter. This parameter can be tweaked.\n",
    "\n",
    "# x_train, y_train = preprocess(x_train, y_train) # This line can be uncommented in order to apply some normilisation to the training data.\n",
    "# x_test, y_test = preprocess(x_test, y_test)     # This line can be uncommented in order to apply some normilisation to the test data.\n",
    "\n",
    "# x_train, y_train = augmentation(x_train, y_train)\n",
    "\n",
    "model.fit(x_train, y_train, batch_size=batch_size, epochs=epochs, verbose=1, validation_data=(x_test, y_test)) # fit() starts the backpropagation algorithm.\n"
   ]
  },
  {
   "cell_type": "code",
   "execution_count": 30,
   "metadata": {},
   "outputs": [
    {
     "name": "stdout",
     "output_type": "stream",
     "text": [
      "Keras weights file (<HDF5 file \"variables.h5\" (mode r+)>) saving:\n",
      "...layers\\conv2d\n",
      "......vars\n",
      ".........0\n",
      ".........1\n",
      "...layers\\conv2d_1\n",
      "......vars\n",
      ".........0\n",
      ".........1\n",
      "...layers\\conv2d_2\n",
      "......vars\n",
      ".........0\n",
      ".........1\n",
      "...layers\\dense\n",
      "......vars\n",
      ".........0\n",
      ".........1\n",
      "...layers\\dense_1\n",
      "......vars\n",
      ".........0\n",
      ".........1\n",
      "...layers\\flatten\n",
      "......vars\n",
      "...layers\\max_pooling2d\n",
      "......vars\n",
      "...layers\\max_pooling2d_1\n",
      "......vars\n",
      "...metrics\\mean\n",
      "......vars\n",
      ".........0\n",
      ".........1\n",
      "...metrics\\mean_metric_wrapper\n",
      "......vars\n",
      ".........0\n",
      ".........1\n",
      "...optimizer\n",
      "......vars\n",
      ".........0\n",
      ".........1\n",
      ".........10\n",
      ".........11\n",
      ".........12\n",
      ".........13\n",
      ".........14\n",
      ".........15\n",
      ".........16\n",
      ".........17\n",
      ".........18\n",
      ".........19\n",
      ".........2\n",
      ".........20\n",
      ".........3\n",
      ".........4\n",
      ".........5\n",
      ".........6\n",
      ".........7\n",
      ".........8\n",
      ".........9\n",
      "...vars\n",
      "Keras model archive saving:\n",
      "File Name                                             Modified             Size\n",
      "config.json                                    2022-11-20 08:33:34         4054\n",
      "metadata.json                                  2022-11-20 08:33:34           64\n",
      "variables.h5                                   2022-11-20 08:33:37    968352048\n"
     ]
    },
    {
     "data": {
      "text/plain": [
       "['trained_model.joblib']"
      ]
     },
     "execution_count": 30,
     "metadata": {},
     "output_type": "execute_result"
    }
   ],
   "source": [
    "filename = \"trained_model.joblib\"\n",
    "joblib.dump(model, filename)"
   ]
  },
  {
   "cell_type": "code",
   "execution_count": null,
   "metadata": {},
   "outputs": [],
   "source": []
  }
 ],
 "metadata": {
  "kernelspec": {
   "display_name": "Python 3.10.8 64-bit",
   "language": "python",
   "name": "python3"
  },
  "language_info": {
   "codemirror_mode": {
    "name": "ipython",
    "version": 3
   },
   "file_extension": ".py",
   "mimetype": "text/x-python",
   "name": "python",
   "nbconvert_exporter": "python",
   "pygments_lexer": "ipython3",
   "version": "3.10.8"
  },
  "orig_nbformat": 4,
  "vscode": {
   "interpreter": {
    "hash": "ddaa0467fde5894aa98f0ffdc083817e4a539d0b6eeb0d6547bba99722a22718"
   }
  }
 },
 "nbformat": 4,
 "nbformat_minor": 2
}
